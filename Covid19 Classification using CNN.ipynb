{
 "cells": [
  {
   "cell_type": "code",
   "execution_count": 1,
   "id": "30caeab2",
   "metadata": {},
   "outputs": [],
   "source": [
    "# COVID-19 Classification using CNN:\n",
    "# - In this Python script, we leverage a Convolutional Neural Network (CNN) to classify chest X-ray or CT scan images into three categories: Covid, Normal, and Viral Pneumonia.\n",
    "\n",
    "# Steps in the process:\n",
    "# 1. Dataset Collection: Gather a dataset of chest images, categorized into Covid, Normal, and Viral Pneumonia cases.\n",
    "\n",
    "# 2. Model Architecture: Design a CNN model that includes convolutional layers for feature extraction, pooling layers for downsampling, fully connected layers for classification, and ReLU activation for non-linearity.\n",
    "\n",
    "# 3. Data Preprocessing: Preprocess the images by resizing them, normalizing pixel values, and possibly augmenting the dataset for increased diversity.\n",
    "\n",
    "# 4. Data Splitting: Split the dataset into training and testing sets to evaluate the model's performance.\n",
    "\n",
    "# 5. Label Encoding: One-hot encode the class labels, representing each category as a binary vector.\n",
    "\n",
    "# 6. Model Training: Train the CNN model on the training data, monitoring its performance on the testing data. Performance metrics like accuracy, precision, recall, and F1-score are used for evaluation.\n",
    "\n",
    "# 7. Validation: Ensure the model's performance with real-world medical data to verify its accuracy, effectiveness, and safety.\n",
    "\n",
    "# The application of CNNs for COVID-19 classification is significant in early detection and diagnosis, especially in cases with limited medical resources. It also serves as a valuable tool for research, analysis, and decision support in the medical field.\n"
   ]
  },
  {
   "cell_type": "markdown",
   "id": "9571a911-94a3-4aad-82a0-1d4252efb9d2",
   "metadata": {},
   "source": [
    "### 1. Importing Required libraries"
   ]
  },
  {
   "cell_type": "code",
   "execution_count": 2,
   "id": "a2a2f781-349a-4366-9771-00c5bf390efb",
   "metadata": {},
   "outputs": [],
   "source": [
    "from tensorflow.keras.layers import Dense,Flatten,MaxPool2D,Dropout,Conv2D,InputLayer\n",
    "from tensorflow.keras.preprocessing.image import load_img\n",
    "from tensorflow.keras.models import Sequential\n",
    "from tensorflow.keras.utils import to_categorical\n",
    "from tensorflow.keras.optimizers import Adam\n",
    "from sklearn.metrics import classification_report\n",
    "from sklearn.preprocessing import LabelBinarizer\n",
    "import pandas as pd\n",
    "import numpy as np\n",
    "import matplotlib.pyplot as plt\n",
    "%matplotlib inline\n",
    "import cv2\n",
    "import os"
   ]
  },
  {
   "cell_type": "markdown",
   "id": "76b309b1-9015-4287-8dcf-116539c91c03",
   "metadata": {},
   "source": [
    "### 2. Import the train and test datasets"
   ]
  },
  {
   "cell_type": "code",
   "execution_count": 3,
   "id": "04eea72a-6c4d-4885-9da2-e26c41866304",
   "metadata": {},
   "outputs": [],
   "source": [
    "# Define the directory path for the training data.\n",
    "train_dir = \"Covid19-dataset/train/\"\n",
    "\n",
    "# Define the directory path for the testing data.\n",
    "test_dir = \"Covid19-dataset/test/\"\n"
   ]
  },
  {
   "cell_type": "code",
   "execution_count": 4,
   "id": "66dae955-9536-48c0-9007-441b6d31a5b1",
   "metadata": {},
   "outputs": [],
   "source": [
    "# Define the categories (classes) your model will classify data into.\n",
    "categories = ['Covid', 'Normal', 'Viral Pneumonia']\n",
    "\n",
    "# Initialize empty lists for storing your data and labels.\n",
    "y = []  # Combined labels\n",
    "x = []  # Combined data\n",
    "\n",
    "# Set the batch size for training your model. Batch size determines how many data samples are processed in each iteration.\n",
    "Batch_Size = 32\n",
    "\n",
    "# Set the initial learning rate for your model. Learning rate affects the step size in training algorithms.\n",
    "INIT_LR = 1e-4\n",
    "\n",
    "# Define the number of epochs. An epoch is one complete pass through the entire training dataset.\n",
    "EPOCHES = 10\n"
   ]
  },
  {
   "cell_type": "markdown",
   "id": "577ac365-6243-4866-9ee3-9e4ed7dcb8f4",
   "metadata": {},
   "source": [
    "### 3. Reading Images from the dataset"
   ]
  },
  {
   "cell_type": "markdown",
   "id": "2ac8f175-794b-4f83-8cdf-4430fc986ba8",
   "metadata": {},
   "source": [
    "#### 3.1 Reading The Images From The Train Dataset and Preprocessing"
   ]
  },
  {
   "cell_type": "code",
   "execution_count": 5,
   "id": "3fd67ae1-c2ba-49e4-b1a0-44728007f739",
   "metadata": {},
   "outputs": [
    {
     "name": "stdout",
     "output_type": "stream",
     "text": [
      "1806\n",
      "1375\n",
      "3\n"
     ]
    }
   ],
   "source": [
    "# Import the OpenCV library.\n",
    "import cv2\n",
    "\n",
    "# Read an image from the specified file path.\n",
    "im = cv2.imread('Covid19-dataset/train/Covid/COVID-00013b.jpg')\n",
    "\n",
    "# Get the dimensions of the image: width (w), height (h), and number of color channels (c).\n",
    "h, w, c = im.shape\n",
    "\n",
    "# Print the width of the image.\n",
    "print(w)\n",
    "\n",
    "# Print the height of the image.\n",
    "print(h)\n",
    "\n",
    "# Print the number of color channels (e.g., 3 for RGB images).\n",
    "print(c)\n"
   ]
  },
  {
   "cell_type": "code",
   "execution_count": 6,
   "id": "a3b619c1-6865-431d-8607-e8101d12965d",
   "metadata": {},
   "outputs": [],
   "source": [
    "# Loop through the defined categories (e.g., 'Covid', 'Normal', 'Viral Pneumonia').\n",
    "for category in categories:\n",
    "    # Create the full path to the directory for the current category within the training directory.\n",
    "    path = os.path.join(train_dir, category)\n",
    "    \n",
    "    # Iterate through the files in the current category directory.\n",
    "    for img in os.listdir(path):\n",
    "        # Create the full path to the current image file.\n",
    "        img_path = os.path.join(path, img)\n",
    "        \n",
    "        # Read the image using OpenCV.\n",
    "        image = cv2.imread(img_path)\n",
    "        \n",
    "        # Resize the image to a common size (e.g., 500x500 pixels).\n",
    "        image = cv2.resize(image, (500, 500))\n",
    "        \n",
    "        # Normalize the image pixel values to be in the range [0, 1].\n",
    "        image = image / 255.0\n",
    "        \n",
    "        # Append the preprocessed image to the data list (x).\n",
    "        x.append(image)\n",
    "        \n",
    "        # Append the corresponding category label to the labels list (y).\n",
    "        y.append(category)"
   ]
  },
  {
   "cell_type": "code",
   "execution_count": 7,
   "id": "9804aa88-7855-4ed2-9e19-2633c0ed4724",
   "metadata": {},
   "outputs": [
    {
     "data": {
      "text/plain": [
       "array([[[0.03529412, 0.03529412, 0.03529412],\n",
       "        [0.03137255, 0.03137255, 0.03137255],\n",
       "        [0.03137255, 0.03137255, 0.03137255],\n",
       "        ...,\n",
       "        [0.05098039, 0.05098039, 0.05098039],\n",
       "        [0.05882353, 0.05882353, 0.05882353],\n",
       "        [0.05098039, 0.05098039, 0.05098039]],\n",
       "\n",
       "       [[0.03137255, 0.03137255, 0.03137255],\n",
       "        [0.02745098, 0.02745098, 0.02745098],\n",
       "        [0.02745098, 0.02745098, 0.02745098],\n",
       "        ...,\n",
       "        [0.03529412, 0.03529412, 0.03529412],\n",
       "        [0.05098039, 0.05098039, 0.05098039],\n",
       "        [0.05490196, 0.05490196, 0.05490196]],\n",
       "\n",
       "       [[0.03137255, 0.03137255, 0.03137255],\n",
       "        [0.03137255, 0.03137255, 0.03137255],\n",
       "        [0.02352941, 0.02352941, 0.02352941],\n",
       "        ...,\n",
       "        [0.03137255, 0.03137255, 0.03137255],\n",
       "        [0.03529412, 0.03529412, 0.03529412],\n",
       "        [0.05098039, 0.05098039, 0.05098039]],\n",
       "\n",
       "       ...,\n",
       "\n",
       "       [[0.        , 0.        , 0.        ],\n",
       "        [0.        , 0.        , 0.        ],\n",
       "        [0.        , 0.        , 0.        ],\n",
       "        ...,\n",
       "        [0.02745098, 0.02745098, 0.02745098],\n",
       "        [0.02745098, 0.02745098, 0.02745098],\n",
       "        [0.02745098, 0.02745098, 0.02745098]],\n",
       "\n",
       "       [[0.        , 0.        , 0.        ],\n",
       "        [0.        , 0.        , 0.        ],\n",
       "        [0.        , 0.        , 0.        ],\n",
       "        ...,\n",
       "        [0.03137255, 0.03137255, 0.03137255],\n",
       "        [0.03137255, 0.03137255, 0.03137255],\n",
       "        [0.03137255, 0.03137255, 0.03137255]],\n",
       "\n",
       "       [[0.        , 0.        , 0.        ],\n",
       "        [0.        , 0.        , 0.        ],\n",
       "        [0.        , 0.        , 0.        ],\n",
       "        ...,\n",
       "        [0.03137255, 0.03137255, 0.03137255],\n",
       "        [0.03137255, 0.03137255, 0.03137255],\n",
       "        [0.03137255, 0.03137255, 0.03137255]]])"
      ]
     },
     "execution_count": 7,
     "metadata": {},
     "output_type": "execute_result"
    }
   ],
   "source": [
    "x[0]"
   ]
  },
  {
   "cell_type": "code",
   "execution_count": 8,
   "id": "17342bfe-0803-44bf-b90d-5d2458414877",
   "metadata": {},
   "outputs": [
    {
     "data": {
      "text/plain": [
       "['Covid', 'Covid', 'Covid', 'Covid', 'Covid']"
      ]
     },
     "execution_count": 8,
     "metadata": {},
     "output_type": "execute_result"
    }
   ],
   "source": [
    "y[:5]"
   ]
  },
  {
   "cell_type": "markdown",
   "id": "e7c05445-e88e-4736-8f73-2baee647e158",
   "metadata": {},
   "source": [
    "#### 3.1. Reading The Images From The Test Dataset and Preprocessing"
   ]
  },
  {
   "cell_type": "code",
   "execution_count": 9,
   "id": "5de33f0b-501b-4839-ba19-dcaf3c3be7d3",
   "metadata": {},
   "outputs": [],
   "source": [
    "# Loop through the defined categories (e.g., 'Covid', 'Normal', 'Viral Pneumonia').\n",
    "for category in categories:\n",
    "    # Create the full path to the directory for the current category within the testing directory.\n",
    "    path = os.path.join(test_dir, category)\n",
    "    \n",
    "    # Iterate through the files in the current category directory.\n",
    "    for img in os.listdir(path):\n",
    "        # Create the full path to the current image file.\n",
    "        img_path = os.path.join(path, img)\n",
    "        \n",
    "        # Read the image using OpenCV.\n",
    "        image = cv2.imread(img_path)\n",
    "        \n",
    "        # Resize the image to a common size (e.g., 500x500 pixels).\n",
    "        image = cv2.resize(image, (500, 500))\n",
    "        \n",
    "        # Normalize the image pixel values to be in the range [0, 1].\n",
    "        image = image / 255.0\n",
    "        \n",
    "        # Append the preprocessed image to the data list (x).\n",
    "        x.append(image)\n",
    "        \n",
    "        # Append the corresponding category label to the labels list (y).\n",
    "        y.append(category)"
   ]
  },
  {
   "cell_type": "code",
   "execution_count": 10,
   "id": "4cb3c1ed-a149-404e-8721-d804eb41f484",
   "metadata": {},
   "outputs": [
    {
     "data": {
      "text/plain": [
       "array([[[0.03529412, 0.03529412, 0.03529412],\n",
       "        [0.03137255, 0.03137255, 0.03137255],\n",
       "        [0.03137255, 0.03137255, 0.03137255],\n",
       "        ...,\n",
       "        [0.05098039, 0.05098039, 0.05098039],\n",
       "        [0.05882353, 0.05882353, 0.05882353],\n",
       "        [0.05098039, 0.05098039, 0.05098039]],\n",
       "\n",
       "       [[0.03137255, 0.03137255, 0.03137255],\n",
       "        [0.02745098, 0.02745098, 0.02745098],\n",
       "        [0.02745098, 0.02745098, 0.02745098],\n",
       "        ...,\n",
       "        [0.03529412, 0.03529412, 0.03529412],\n",
       "        [0.05098039, 0.05098039, 0.05098039],\n",
       "        [0.05490196, 0.05490196, 0.05490196]],\n",
       "\n",
       "       [[0.03137255, 0.03137255, 0.03137255],\n",
       "        [0.03137255, 0.03137255, 0.03137255],\n",
       "        [0.02352941, 0.02352941, 0.02352941],\n",
       "        ...,\n",
       "        [0.03137255, 0.03137255, 0.03137255],\n",
       "        [0.03529412, 0.03529412, 0.03529412],\n",
       "        [0.05098039, 0.05098039, 0.05098039]],\n",
       "\n",
       "       ...,\n",
       "\n",
       "       [[0.        , 0.        , 0.        ],\n",
       "        [0.        , 0.        , 0.        ],\n",
       "        [0.        , 0.        , 0.        ],\n",
       "        ...,\n",
       "        [0.02745098, 0.02745098, 0.02745098],\n",
       "        [0.02745098, 0.02745098, 0.02745098],\n",
       "        [0.02745098, 0.02745098, 0.02745098]],\n",
       "\n",
       "       [[0.        , 0.        , 0.        ],\n",
       "        [0.        , 0.        , 0.        ],\n",
       "        [0.        , 0.        , 0.        ],\n",
       "        ...,\n",
       "        [0.03137255, 0.03137255, 0.03137255],\n",
       "        [0.03137255, 0.03137255, 0.03137255],\n",
       "        [0.03137255, 0.03137255, 0.03137255]],\n",
       "\n",
       "       [[0.        , 0.        , 0.        ],\n",
       "        [0.        , 0.        , 0.        ],\n",
       "        [0.        , 0.        , 0.        ],\n",
       "        ...,\n",
       "        [0.03137255, 0.03137255, 0.03137255],\n",
       "        [0.03137255, 0.03137255, 0.03137255],\n",
       "        [0.03137255, 0.03137255, 0.03137255]]])"
      ]
     },
     "execution_count": 10,
     "metadata": {},
     "output_type": "execute_result"
    }
   ],
   "source": [
    "x[0]"
   ]
  },
  {
   "cell_type": "code",
   "execution_count": 11,
   "id": "b4577377-753e-48e8-a03f-c22915a1fd0d",
   "metadata": {},
   "outputs": [
    {
     "data": {
      "text/plain": [
       "['Covid', 'Covid', 'Covid', 'Covid', 'Covid']"
      ]
     },
     "execution_count": 11,
     "metadata": {},
     "output_type": "execute_result"
    }
   ],
   "source": [
    "y[:5]"
   ]
  },
  {
   "cell_type": "markdown",
   "id": "a2933913-8453-45d4-83bc-599b20740d2c",
   "metadata": {},
   "source": [
    "### 4. Preprocessing The Data And Label"
   ]
  },
  {
   "cell_type": "code",
   "execution_count": 12,
   "id": "417dfc6d-3646-457b-a095-fc1d885faa06",
   "metadata": {},
   "outputs": [],
   "source": [
    "# Import the train_test_split function from scikit-learn to split the data.\n",
    "from sklearn.model_selection import train_test_split\n",
    "\n",
    "# Split the data into training and testing sets:\n",
    "# - x is the data (images).\n",
    "# - y is the labels (categories).\n",
    "# - test_size specifies the proportion of the data to be used for testing (e.g., 20%).\n",
    "# - random_state is used for reproducibility of the split.\n",
    "\n",
    "x_train, x_test, y_train, y_test = train_test_split(x, y, test_size=0.2, random_state=42)\n",
    "\n",
    "# After this code, you'll have:\n",
    "# - x_train: Training data (images).\n",
    "# - x_test: Testing data (images).\n",
    "# - y_train: Training labels (categories).\n",
    "# - y_test: Testing labels (categories).\n"
   ]
  },
  {
   "cell_type": "code",
   "execution_count": 13,
   "id": "4b89266b-6924-4e15-b27a-35eeed6b2d22",
   "metadata": {},
   "outputs": [],
   "source": [
    "# perform one-hot encoding on the class labels. \n",
    "# One-hot encoding is a common technique used in machine learning for handling categorical labels. \n",
    "# It transforms categorical labels into a binary format that is suitable for use in machine learning models.\n",
    "\n",
    "# Initialize a LabelBinarizer object.\n",
    "lb = LabelBinarizer()\n",
    "\n",
    "# Fit and transform the training labels (y_train) to one-hot encoded format.\n",
    "y_train = lb.fit_transform(y_train)\n",
    "\n",
    "# Transform the testing labels (y_test) to one-hot encoded format using the same LabelBinarizer.\n",
    "y_test = lb.transform(y_test)\n",
    "\n",
    "# After this code, y_train and y_test will be one-hot encoded, where each category is represented as a binary vector."
   ]
  },
  {
   "cell_type": "code",
   "execution_count": 14,
   "id": "2f4d7c91-fcad-4c23-82de-2350a60fddbd",
   "metadata": {},
   "outputs": [],
   "source": [
    "#### convert your data and labels to NumPy arrays and specifying the data type as 'float32'.\n",
    "#### This data type is often used in machine learning for numerical computations and is more memory-efficient compared to other data types like 'float64'\n",
    "\n",
    "x_train = np.array(x_train,dtype='float32')\n",
    "y_train = np.array(y_train,dtype='float32')\n",
    "x_test = np.array(x_test,dtype='float32')\n",
    "y_test = np.array(y_test,dtype='float32')"
   ]
  },
  {
   "cell_type": "code",
   "execution_count": 15,
   "id": "40fc4cff-6429-4f48-862b-a2c50953e8ee",
   "metadata": {},
   "outputs": [
    {
     "data": {
      "text/plain": [
       "(253, 500, 500, 3)"
      ]
     },
     "execution_count": 15,
     "metadata": {},
     "output_type": "execute_result"
    }
   ],
   "source": [
    "x_train.shape"
   ]
  },
  {
   "cell_type": "code",
   "execution_count": 16,
   "id": "763f0d4c-b88d-4dad-8bec-140f006ee6fb",
   "metadata": {},
   "outputs": [
    {
     "data": {
      "text/plain": [
       "(64, 500, 500, 3)"
      ]
     },
     "execution_count": 16,
     "metadata": {},
     "output_type": "execute_result"
    }
   ],
   "source": [
    "x_test.shape"
   ]
  },
  {
   "cell_type": "code",
   "execution_count": 17,
   "id": "90c10917-3bce-4de5-b5d3-f1c735e639cb",
   "metadata": {},
   "outputs": [
    {
     "data": {
      "text/plain": [
       "(253, 3)"
      ]
     },
     "execution_count": 17,
     "metadata": {},
     "output_type": "execute_result"
    }
   ],
   "source": [
    "y_train.shape"
   ]
  },
  {
   "cell_type": "code",
   "execution_count": 18,
   "id": "f17c568a-51c0-4e4d-a700-f764a2f8b768",
   "metadata": {},
   "outputs": [
    {
     "data": {
      "text/plain": [
       "(64, 3)"
      ]
     },
     "execution_count": 18,
     "metadata": {},
     "output_type": "execute_result"
    }
   ],
   "source": [
    "y_test.shape"
   ]
  },
  {
   "cell_type": "markdown",
   "id": "41d29285-f75a-421e-8191-603f0d2dc81b",
   "metadata": {},
   "source": [
    "### 5. Creating the CNN Model"
   ]
  },
  {
   "cell_type": "code",
   "execution_count": 19,
   "id": "d1a5984d-6c0d-4ac7-8c4a-849f022377a1",
   "metadata": {},
   "outputs": [
    {
     "name": "stdout",
     "output_type": "stream",
     "text": [
      "Model: \"sequential\"\n",
      "_________________________________________________________________\n",
      " Layer (type)                Output Shape              Param #   \n",
      "=================================================================\n",
      " conv2d (Conv2D)             (None, 498, 498, 32)      896       \n",
      "                                                                 \n",
      " max_pooling2d (MaxPooling2D  (None, 249, 249, 32)     0         \n",
      " )                                                               \n",
      "                                                                 \n",
      " conv2d_1 (Conv2D)           (None, 247, 247, 64)      18496     \n",
      "                                                                 \n",
      " max_pooling2d_1 (MaxPooling  (None, 123, 123, 64)     0         \n",
      " 2D)                                                             \n",
      "                                                                 \n",
      " conv2d_2 (Conv2D)           (None, 121, 121, 128)     73856     \n",
      "                                                                 \n",
      " max_pooling2d_2 (MaxPooling  (None, 60, 60, 128)      0         \n",
      " 2D)                                                             \n",
      "                                                                 \n",
      " flatten (Flatten)           (None, 460800)            0         \n",
      "                                                                 \n",
      " dense (Dense)               (None, 128)               58982528  \n",
      "                                                                 \n",
      " dropout (Dropout)           (None, 128)               0         \n",
      "                                                                 \n",
      " dense_1 (Dense)             (None, 3)                 387       \n",
      "                                                                 \n",
      "=================================================================\n",
      "Total params: 59,076,163\n",
      "Trainable params: 59,076,163\n",
      "Non-trainable params: 0\n",
      "_________________________________________________________________\n"
     ]
    }
   ],
   "source": [
    "# Create a Sequential model.\n",
    "model = Sequential()\n",
    "\n",
    "# Input layer with shape (500, 500, 3) representing a 500x500 pixel image with 3 color channels (RGB).\n",
    "model.add(InputLayer(input_shape=(500, 500, 3)))\n",
    "\n",
    "# Convolutional layers with increasing filter size and max-pooling.\n",
    "model.add(Conv2D(32, kernel_size=(3, 3), activation='relu'))\n",
    "model.add(MaxPool2D(pool_size=(2, 2)))\n",
    "model.add(Conv2D(64, kernel_size=(3, 3), activation='relu'))\n",
    "model.add(MaxPool2D(pool_size=(2, 2)))\n",
    "model.add(Conv2D(128, kernel_size=(3, 3), activation='relu'))\n",
    "model.add(MaxPool2D(pool_size=(2, 2)))\n",
    "\n",
    "# Flatten the feature maps for the fully connected layers.\n",
    "model.add(Flatten())\n",
    "\n",
    "# Fully connected layers with a ReLU activation function.\n",
    "model.add(Dense(128, activation='relu'))\n",
    "\n",
    "# Add dropout for regularization to reduce overfitting.\n",
    "model.add(Dropout(0.5))\n",
    "\n",
    "# Output layer with 3 units (corrected) for classification into 3 classes and softmax activation.\n",
    "model.add(Dense(3, activation='softmax'))\n",
    "\n",
    "# Print a summary of the model architecture, showing the layers and the number of parameters.\n",
    "model.summary()\n",
    "\n"
   ]
  },
  {
   "cell_type": "markdown",
   "id": "a3890322-2662-4a60-8388-3f610fada603",
   "metadata": {},
   "source": [
    "### 6. Compiling The Model, setup the optimizer for training a  model"
   ]
  },
  {
   "cell_type": "code",
   "execution_count": 20,
   "id": "3e8c3f8c-97dd-4882-b288-baee9c167326",
   "metadata": {},
   "outputs": [],
   "source": [
    "# Set up the optimizer with the specified learning rate (INIT_LR) and weight decay (INIT_LR / Batch_Size).\n",
    "opt = Adam(learning_rate=INIT_LR, weight_decay=INIT_LR / Batch_Size)\n",
    "\n",
    "# Compile the model:\n",
    "# - optimizer: The Adam optimizer with the specified learning rate and weight decay.\n",
    "# - loss: The loss function used for training. 'categorical_crossentropy' is commonly used for multi-class classification tasks.\n",
    "# - metrics: The evaluation metrics for the model. Here, accuracy is used to monitor model performance.\n",
    "model.compile(optimizer=opt, loss='categorical_crossentropy', metrics=['accuracy'])"
   ]
  },
  {
   "cell_type": "markdown",
   "id": "5c9b67e4",
   "metadata": {},
   "source": [
    "### 7. Training a model using the provided training data "
   ]
  },
  {
   "cell_type": "code",
   "execution_count": 21,
   "id": "58e65f53-aebf-41d7-a44c-2deed0e238a1",
   "metadata": {},
   "outputs": [
    {
     "name": "stdout",
     "output_type": "stream",
     "text": [
      "Epoch 1/10\n",
      "7/7 [==============================] - 40s 5s/step - loss: 1.4748 - accuracy: 0.3884\n",
      "Epoch 2/10\n",
      "7/7 [==============================] - 54s 8s/step - loss: 0.8913 - accuracy: 0.6154\n",
      "Epoch 3/10\n",
      "7/7 [==============================] - 51s 7s/step - loss: 0.7012 - accuracy: 0.7376\n",
      "Epoch 4/10\n",
      "7/7 [==============================] - 53s 8s/step - loss: 0.5645 - accuracy: 0.7964\n",
      "Epoch 5/10\n",
      "7/7 [==============================] - 44s 6s/step - loss: 0.4407 - accuracy: 0.8281\n",
      "Epoch 6/10\n",
      "7/7 [==============================] - 55s 8s/step - loss: 0.3361 - accuracy: 0.9095\n",
      "Epoch 7/10\n",
      "7/7 [==============================] - 49s 7s/step - loss: 0.2571 - accuracy: 0.8914\n",
      "Epoch 8/10\n",
      "7/7 [==============================] - 54s 8s/step - loss: 0.2383 - accuracy: 0.9276\n",
      "Epoch 9/10\n",
      "7/7 [==============================] - 66s 10s/step - loss: 0.1802 - accuracy: 0.9464\n",
      "Epoch 10/10\n",
      "7/7 [==============================] - 56s 8s/step - loss: 0.1473 - accuracy: 0.9593\n"
     ]
    }
   ],
   "source": [
    "# Calculate the number of validation steps based on the size of the testing dataset and batch size.\n",
    "validation_steps = len(y_test) // Batch_Size\n",
    "\n",
    "# Train the model using the training data and validate it using the testing data.\n",
    "# - x_train: Training data.\n",
    "# - y_train: Training labels.\n",
    "# - epochs: Number of training epochs.\n",
    "# - steps_per_epoch: The number of training steps per epoch (based on the size of the training dataset and batch size).\n",
    "# - batch_size: The size of each batch during training.\n",
    "# - validation_steps: The number of validation steps during training (based on the size of the testing dataset and batch size).\n",
    "History = model.fit(\n",
    "    x_train,\n",
    "    y_train,\n",
    "    epochs=EPOCHES,\n",
    "    steps_per_epoch=len(x_train) // Batch_Size,\n",
    "    batch_size=Batch_Size,\n",
    "    validation_steps=validation_steps\n",
    ")"
   ]
  },
  {
   "cell_type": "markdown",
   "id": "2b8f0fb1",
   "metadata": {},
   "source": [
    "### 8. Saving the Model"
   ]
  },
  {
   "cell_type": "code",
   "execution_count": 22,
   "id": "973fea94-79b5-4066-99f8-543a9c60228c",
   "metadata": {},
   "outputs": [],
   "source": [
    "### Save the trained model\n",
    "model.save(\"Covid19_CNN.h5\")"
   ]
  },
  {
   "cell_type": "markdown",
   "id": "9394db47",
   "metadata": {},
   "source": [
    "### 9. Evaluating the model using testing data"
   ]
  },
  {
   "cell_type": "code",
   "execution_count": 23,
   "id": "96fd7109-11ae-4c26-9609-ac810789b1be",
   "metadata": {},
   "outputs": [
    {
     "name": "stdout",
     "output_type": "stream",
     "text": [
      "2/2 [==============================] - 3s 1s/step - loss: 0.2256 - accuracy: 0.9375\n",
      "Test Loss: 0.22559314966201782\n",
      "Test Accuracy: 0.9375\n"
     ]
    }
   ],
   "source": [
    "# Assuming you've trained and saved your model in a variable named 'model'\n",
    "\n",
    "# Use the testing data (x_test, y_test) to evaluate the model\n",
    "evaluation = model.evaluate(x_test, y_test, batch_size=Batch_Size)\n",
    "\n",
    "# Print the evaluation results\n",
    "print(\"Test Loss:\", evaluation[0])\n",
    "print(\"Test Accuracy:\", evaluation[1])"
   ]
  },
  {
   "cell_type": "markdown",
   "id": "c047fce1-a970-4dac-a904-a26ca8e6c9ae",
   "metadata": {},
   "source": [
    "evaluation[0] represents the test loss, and evaluation[1] represents the test accuracy. Here's what these values mean:\n",
    "\n",
    "evaluation[0]: This is the test loss, which quantifies how well the model's predictions match the true labels in the testing dataset. Lower values of the test loss indicate better performance, as it means the model's predictions are closer to the ground truth.\n",
    "\n",
    "evaluation[1]: This is the test accuracy, which is the proportion of correctly classified samples in the testing dataset. It is a common metric for classification tasks and represents the model's ability to make accurate predictions on unseen data. Higher accuracy values indicate better model performance.\n"
   ]
  },
  {
   "cell_type": "markdown",
   "id": "2ffefd2f",
   "metadata": {},
   "source": [
    "### 10. Evalating the model with new image"
   ]
  },
  {
   "cell_type": "code",
   "execution_count": 24,
   "id": "315cd7e4-5291-4034-85c6-9375ec1c076e",
   "metadata": {},
   "outputs": [
    {
     "name": "stdout",
     "output_type": "stream",
     "text": [
      "1/1 [==============================] - 0s 170ms/step\n",
      "Predicted Class: Covid\n"
     ]
    }
   ],
   "source": [
    "# Preprocess the new image\n",
    "new_image_path = 'Covid19-dataset/test/Covid/0112.jpg'  # Replace with the path to your new image\n",
    "new_image = cv2.imread(new_image_path)\n",
    "new_image = cv2.resize(new_image, (500, 500))\n",
    "new_image = new_image / 255  # Normalize pixel values\n",
    "\n",
    "# Expand dimensions to match the model's input shape\n",
    "new_image = np.expand_dims(new_image, axis=0)\n",
    "\n",
    "# Use the model to make predictions\n",
    "predictions = model.predict(new_image)\n",
    "\n",
    "# Interpret the predictions\n",
    "class_index = np.argmax(predictions)  # Get the index of the class with the highest probability\n",
    "predicted_class = categories[class_index]  # Map the index to the class label\n",
    "\n",
    "# Print the predicted class\n",
    "print(\"Predicted Class:\", predicted_class)"
   ]
  },
  {
   "cell_type": "markdown",
   "id": "ebf1232a",
   "metadata": {},
   "source": [
    "### 11. Evaluate the saved model with testing data (x_test, y_test)"
   ]
  },
  {
   "cell_type": "code",
   "execution_count": 25,
   "id": "bb2c3c68-4eee-44fc-ada5-c85fd5ef0b6e",
   "metadata": {},
   "outputs": [
    {
     "name": "stdout",
     "output_type": "stream",
     "text": [
      "2/2 [==============================] - 3s 1s/step - loss: 0.2256 - accuracy: 0.9375\n",
      "Test Loss: 0.22559314966201782\n",
      "Test Accuracy: 0.9375\n"
     ]
    }
   ],
   "source": [
    "from tensorflow.keras.models import load_model\n",
    "\n",
    "# Load the saved model\n",
    "loaded_model = load_model(\"Covid19_CNN.h5\")\n",
    "\n",
    "# Evaluate the model with testing data (x_test, y_test)\n",
    "evaluation = loaded_model.evaluate(x_test, y_test, batch_size=Batch_Size)\n",
    "\n",
    "# Print the evaluation results\n",
    "print(\"Test Loss:\", evaluation[0])\n",
    "print(\"Test Accuracy:\", evaluation[1])"
   ]
  },
  {
   "cell_type": "markdown",
   "id": "35498b52",
   "metadata": {},
   "source": [
    "### 12. Evaluate the saved model in new image"
   ]
  },
  {
   "cell_type": "code",
   "execution_count": 26,
   "id": "b56acd22-e314-4517-afb4-9a7f4718df46",
   "metadata": {},
   "outputs": [
    {
     "name": "stdout",
     "output_type": "stream",
     "text": [
      "1/1 [==============================] - 0s 136ms/step\n",
      "Predicted Class: Covid\n"
     ]
    }
   ],
   "source": [
    "### Use saved model to evaluate in new image\n",
    "from tensorflow.keras.models import load_model\n",
    "import cv2\n",
    "import numpy as np\n",
    "\n",
    "# Load the saved model\n",
    "loaded_model = load_model(\"Covid_CNN.h5\")\n",
    "\n",
    "# Preprocess a new image\n",
    "new_image_path = 'Covid19-dataset/test/Covid/0112.jpg'  # Replace with the path to your new image\n",
    "new_image = cv2.imread(new_image_path)\n",
    "new_image = cv2.resize(new_image, (500, 500))\n",
    "new_image = new_image / 255  # Normalize pixel values\n",
    "new_image = np.expand_dims(new_image, axis=0)  # Expand dimensions\n",
    "\n",
    "# Use the loaded model to make predictions\n",
    "predictions = loaded_model.predict(new_image)\n",
    "\n",
    "# Interpret the predictions (e.g., get the predicted class label)\n",
    "class_index = np.argmax(predictions)\n",
    "predicted_class = categories[class_index]\n",
    "print(\"Predicted Class:\", predicted_class)\n"
   ]
  },
  {
   "cell_type": "code",
   "execution_count": 27,
   "id": "e9b7a4ef-50cd-4036-b107-9eeca94ca830",
   "metadata": {},
   "outputs": [
    {
     "name": "stdout",
     "output_type": "stream",
     "text": [
      "1/1 [==============================] - 0s 130ms/step\n",
      "Predicted Class: Viral Pneumonia\n"
     ]
    }
   ],
   "source": [
    "### Testing a model with another new image\n",
    "# Load the saved model\n",
    "loaded_model = load_model(\"Covid_CNN.h5\")\n",
    "\n",
    "# Preprocess a new image\n",
    "new_image_path = 'Covid19-dataset/test/Viral Pneumonia/0120.jpeg'  # Replace with the path to your new image\n",
    "new_image = cv2.imread(new_image_path)\n",
    "new_image = cv2.resize(new_image, (500, 500))\n",
    "new_image = new_image / 255  # Normalize pixel values\n",
    "new_image = np.expand_dims(new_image, axis=0)  # Expand dimensions\n",
    "\n",
    "# Use the loaded model to make predictions\n",
    "predictions = loaded_model.predict(new_image)\n",
    "\n",
    "# Interpret the predictions (e.g., get the predicted class label)\n",
    "class_index = np.argmax(predictions)\n",
    "predicted_class = categories[class_index]\n",
    "print(\"Predicted Class:\", predicted_class)\n"
   ]
  },
  {
   "cell_type": "markdown",
   "id": "c7e24dcd-dea6-46f2-b258-391bbc446ae7",
   "metadata": {},
   "source": [
    "### 13. Visulize the results"
   ]
  },
  {
   "cell_type": "code",
   "execution_count": 28,
   "id": "28c271a8-27d2-488c-b97d-cec10b497d0a",
   "metadata": {},
   "outputs": [
    {
     "name": "stdout",
     "output_type": "stream",
     "text": [
      "Found 66 images belonging to 3 classes.\n",
      "66/66 [==============================] - 5s 70ms/step\n"
     ]
    },
    {
     "data": {
      "image/png": "[encoded data removed]",
      "text/plain": [
       "<Figure size 800x600 with 2 Axes>"
      ]
     },
     "metadata": {},
     "output_type": "display_data"
    },
    {
     "name": "stdout",
     "output_type": "stream",
     "text": [
      "Classification Report:\n",
      "                  precision    recall  f1-score   support\n",
      "\n",
      "          Covid       1.00      0.96      0.98        26\n",
      "         Normal       0.95      1.00      0.98        20\n",
      "Viral Pneumonia       1.00      1.00      1.00        20\n",
      "\n",
      "       accuracy                           0.98        66\n",
      "      macro avg       0.98      0.99      0.99        66\n",
      "   weighted avg       0.99      0.98      0.98        66\n",
      "\n"
     ]
    }
   ],
   "source": [
    "import numpy as np\n",
    "import seaborn as sns\n",
    "import matplotlib.pyplot as plt\n",
    "from sklearn.metrics import confusion_matrix, classification_report\n",
    "from tensorflow.keras.preprocessing.image import ImageDataGenerator\n",
    "\n",
    "# Create a data generator for the test set\n",
    "test_data_generator = ImageDataGenerator(rescale=1.0/255.0)  # Rescale pixel values\n",
    "\n",
    "# Load the test data from the directories\n",
    "test_data = test_data_generator.flow_from_directory(\n",
    "    test_dir,\n",
    "    target_size=(500, 500),  # Adjust target size as needed\n",
    "    batch_size=1,  # Set batch size to 1 to visualize individual predictions\n",
    "    class_mode='categorical',\n",
    "    shuffle=False  # Important to match predictions with true labels\n",
    ")\n",
    "\n",
    "# Get true labels\n",
    "true_labels = test_data.classes\n",
    "\n",
    "# Predict using your VGG16 model\n",
    "predictions = model.predict(test_data)\n",
    "\n",
    "# Generate a confusion matrix\n",
    "cm = confusion_matrix(true_labels, predictions.argmax(axis=1))\n",
    "\n",
    "# Get class names (categories)\n",
    "class_names = list(test_data.class_indices.keys())\n",
    "\n",
    "# Display the confusion matrix\n",
    "plt.figure(figsize=(8, 6))\n",
    "sns.heatmap(cm, annot=True, fmt='d', cmap='Blues', xticklabels=class_names, yticklabels=class_names)\n",
    "plt.xlabel('Predicted')\n",
    "plt.ylabel('True')\n",
    "plt.title('Confusion Matrix')\n",
    "plt.show()\n",
    "\n",
    "# Generate a classification report\n",
    "report = classification_report(true_labels, predictions.argmax(axis=1), target_names=class_names)\n",
    "print(\"Classification Report:\\n\", report)"
   ]
  },
  {
   "cell_type": "markdown",
   "id": "92335c92",
   "metadata": {},
   "source": [
    "### ....... Finished ........."
   ]
  }
 ],
 "metadata": {
  "kernelspec": {
   "display_name": "Python 3 (ipykernel)",
   "language": "python",
   "name": "python3"
  },
  "language_info": {
   "codemirror_mode": {
    "name": "ipython",
    "version": 3
   },
   "file_extension": ".py",
   "mimetype": "text/x-python",
   "name": "python",
   "nbconvert_exporter": "python",
   "pygments_lexer": "ipython3",
   "version": "3.11.5"
  }
 },
 "nbformat": 4,
 "nbformat_minor": 5
}
